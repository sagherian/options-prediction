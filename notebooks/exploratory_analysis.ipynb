{
 "cells": [
  {
   "cell_type": "code",
   "execution_count": null,
   "metadata": {},
   "outputs": [],
   "source": []
  },
  {
   "cell_type": "code",
   "execution_count": 13,
   "metadata": {},
   "outputs": [],
   "source": [
    "import pandas as pd\n",
    "import numpy as np\n",
    "import torch.nn as nn\n",
    "import yfinance as yf\n"
   ]
  },
  {
   "cell_type": "code",
   "execution_count": 11,
   "metadata": {},
   "outputs": [
    {
     "name": "stderr",
     "output_type": "stream",
     "text": [
      "C:\\Users\\saris\\AppData\\Local\\Temp\\ipykernel_27596\\3169291809.py:3: FutureWarning: YF.download() has changed argument auto_adjust default to True\n",
      "  stock = yf.download(ticker, progress=False)\n"
     ]
    },
    {
     "data": {
      "text/html": [
       "<div>\n",
       "<style scoped>\n",
       "    .dataframe tbody tr th:only-of-type {\n",
       "        vertical-align: middle;\n",
       "    }\n",
       "\n",
       "    .dataframe tbody tr th {\n",
       "        vertical-align: top;\n",
       "    }\n",
       "\n",
       "    .dataframe thead tr th {\n",
       "        text-align: left;\n",
       "    }\n",
       "\n",
       "    .dataframe thead tr:last-of-type th {\n",
       "        text-align: right;\n",
       "    }\n",
       "</style>\n",
       "<table border=\"1\" class=\"dataframe\">\n",
       "  <thead>\n",
       "    <tr>\n",
       "      <th>Price</th>\n",
       "      <th>Close</th>\n",
       "      <th>High</th>\n",
       "      <th>Low</th>\n",
       "      <th>Open</th>\n",
       "      <th>Volume</th>\n",
       "    </tr>\n",
       "    <tr>\n",
       "      <th>Ticker</th>\n",
       "      <th>COIN</th>\n",
       "      <th>COIN</th>\n",
       "      <th>COIN</th>\n",
       "      <th>COIN</th>\n",
       "      <th>COIN</th>\n",
       "    </tr>\n",
       "    <tr>\n",
       "      <th>Date</th>\n",
       "      <th></th>\n",
       "      <th></th>\n",
       "      <th></th>\n",
       "      <th></th>\n",
       "      <th></th>\n",
       "    </tr>\n",
       "  </thead>\n",
       "  <tbody>\n",
       "    <tr>\n",
       "      <th>2021-04-14</th>\n",
       "      <td>328.279999</td>\n",
       "      <td>429.540009</td>\n",
       "      <td>310.0</td>\n",
       "      <td>381.0</td>\n",
       "      <td>81065700</td>\n",
       "    </tr>\n",
       "  </tbody>\n",
       "</table>\n",
       "</div>"
      ],
      "text/plain": [
       "Price            Close        High    Low   Open    Volume\n",
       "Ticker            COIN        COIN   COIN   COIN      COIN\n",
       "Date                                                      \n",
       "2021-04-14  328.279999  429.540009  310.0  381.0  81065700"
      ]
     },
     "metadata": {},
     "output_type": "display_data"
    }
   ],
   "source": [
    "# Download Coinbase (COIN) historical price data\n",
    "ticker = 'COIN'\n",
    "stock = yf.download(ticker, progress=False)\n",
    "display(stock.head(1))"
   ]
  },
  {
   "cell_type": "code",
   "execution_count": null,
   "metadata": {},
   "outputs": [
    {
     "ename": "NameError",
     "evalue": "name 'stockcoinbase' is not defined",
     "output_type": "error",
     "traceback": [
      "\u001b[1;31m---------------------------------------------------------------------------\u001b[0m",
      "\u001b[1;31mNameError\u001b[0m                                 Traceback (most recent call last)",
      "Cell \u001b[1;32mIn[17], line 13\u001b[0m\n\u001b[0;32m     11\u001b[0m stock[\u001b[38;5;124m'\u001b[39m\u001b[38;5;124mintraday_range\u001b[39m\u001b[38;5;124m'\u001b[39m] \u001b[38;5;241m=\u001b[39m stock[\u001b[38;5;124m'\u001b[39m\u001b[38;5;124mHigh\u001b[39m\u001b[38;5;124m'\u001b[39m] \u001b[38;5;241m-\u001b[39m coinbase[\u001b[38;5;124m'\u001b[39m\u001b[38;5;124mLow\u001b[39m\u001b[38;5;124m'\u001b[39m]\n\u001b[0;32m     12\u001b[0m stock[\u001b[38;5;124m'\u001b[39m\u001b[38;5;124mintraday_range\u001b[39m\u001b[38;5;124m'\u001b[39m] \u001b[38;5;241m=\u001b[39m stock[\u001b[38;5;124m'\u001b[39m\u001b[38;5;124mintraday_range\u001b[39m\u001b[38;5;124m'\u001b[39m]\u001b[38;5;241m.\u001b[39mfillna(\u001b[38;5;241m0\u001b[39m)\n\u001b[1;32m---> 13\u001b[0m \u001b[43mstockcoinbase\u001b[49m[\u001b[38;5;124m'\u001b[39m\u001b[38;5;124mintraday_range_rel_close\u001b[39m\u001b[38;5;124m'\u001b[39m] \u001b[38;5;241m=\u001b[39m stock[\u001b[38;5;124m'\u001b[39m\u001b[38;5;124mintraday_range\u001b[39m\u001b[38;5;124m'\u001b[39m] \u001b[38;5;241m/\u001b[39m coinbase[\u001b[38;5;124m'\u001b[39m\u001b[38;5;124mClose\u001b[39m\u001b[38;5;124m'\u001b[39m]\n\u001b[0;32m     14\u001b[0m stock[\u001b[38;5;124m'\u001b[39m\u001b[38;5;124mintraday_range_rel_prev_close\u001b[39m\u001b[38;5;124m'\u001b[39m] \u001b[38;5;241m=\u001b[39m stock[\u001b[38;5;124m'\u001b[39m\u001b[38;5;124mintraday_range\u001b[39m\u001b[38;5;124m'\u001b[39m] \u001b[38;5;241m/\u001b[39m coinbase[\u001b[38;5;124m'\u001b[39m\u001b[38;5;124mClose\u001b[39m\u001b[38;5;124m'\u001b[39m]\u001b[38;5;241m.\u001b[39mshift(\u001b[38;5;241m1\u001b[39m) \n\u001b[0;32m     16\u001b[0m \u001b[38;5;66;03m# 30 and 200 day moving averages and standard deviations\u001b[39;00m\n",
      "\u001b[1;31mNameError\u001b[0m: name 'stockcoinbase' is not defined"
     ]
    }
   ],
   "source": [
    "def add_features(df):\n",
    "\n",
    "    # 30 day and 200 day moving average and standard deviation\n",
    "    df['MA30'] = df['Close'].rolling(window=30).mean()\n",
    "    df['MA200'] = df['Close'].rolling(window=200).mean()\n",
    "    df['STD30'] = df['Close'].rolling(window=30).std()\n",
    "    df['STD200'] = df['Close'].rolling(window=200).std()\n",
    "\n",
    "    # 14 day RSI\n",
    "    delta = df['Close'].diff()\n",
    "    gain = (delta.where(delta > 0, 0)).rolling(window=14).mean()\n",
    "    loss = (-delta.where(delta < 0, 0)).rolling(window=14).mean()\n",
    "    rs = gain / loss\n",
    "    df['RSI14'] = 100 - (100 / (1 + rs))\n",
    "\n",
    "    # 14 day MACD\n",
    "    df['EMA12'] = df['Close'].ewm(span=12, adjust=False).mean()\n",
    "    df['EMA26'] = df['Close'].ewm(span=26, adjust=False).mean()\n",
    "    df['MACD'] = df['EMA12'] - df['EMA26']  \n",
    "\n",
    "    df['Signal'] = df['MACD'].ewm(span=9, adjust=False).mean()\n",
    "    df['MACD_Hist'] = df['MACD'] - df['Signal'] \n",
    "    df['MACD_Signal'] = np.where(df['MACD_Hist'] > 0, 1, -1)\n",
    "    df['MACD_Signal'] = df['MACD_Signal'].shift(1)  # Shift to avoid lookahead bias\n",
    "    df['MACD_Signal'] = df['MACD_Signal'].fillna(0)  # Fill NaN values with 0\n",
    "    df['MACD_Signal'] = df['MACD_Signal'].astype(int)  # Ensure it's an integer type\n",
    "\n",
    "    # 14 day Stochastic Oscillator\n",
    "    df['L14'] = df['Low'].rolling(window=14).min()  \n",
    "    df['H14'] = df['High'].rolling(window=14).max()\n",
    "    df['Stoch'] = (df['Close'] - df['L14']) / (df['H14'] - df['L14']) * 100\n",
    "    df['Stoch_Signal'] = np.where(df['Stoch'] > 80, -1, np.where(df['Stoch'] < 20, 1, 0))\n",
    "    df['Stoch_Signal'] = df['Stoch_Signal'].shift(1)  # Shift to avoid lookahead bias\n",
    "    df['Stoch_Signal'] = df['Stoch_Signal'].fillna(0)  # Fill NaN values with 0\n",
    "    df['Stoch_Signal'] = df['Stoch_Signal'].astype(int)\n",
    "\n",
    "    # daily and weekly demark indicators\n",
    "    df['Demark_Daily'] = np.where(df['Close'] > df['Open'], 1, -1)\n",
    "    df['Demark_Weekly'] = df['Demark_Daily'].rolling(window=7).sum()\n",
    "    df['Demark_Weekly'] = np.where(df['Demark_Weekly'] > 0, 1, -1)\n",
    "    df['Demark_Weekly'] = df['Demark_Weekly'].shift(1)  # Shift to avoid lookahead bias\n",
    "    df['Demark_Weekly'] = df['Demark_Weekly'].fillna(0)  # Fill NaN values with 0\n",
    "    df['Demark_Weekly'] = df['Demark_Weekly'].astype(int)\n",
    "\n",
    "    # daily and weekly Williams %R\n",
    "    df['Williams_Daily'] = (df['H14'] - df['Close'])\n",
    "    df['Williams_Daily'] /= (df['H14'] - df['L14'])\n",
    "    df['Williams_Daily'] = df['Williams_Daily'] * -100\n",
    "    df['Williams_Weekly'] = df['Williams_Daily'].rolling(window=7).mean()\n",
    "    df['Williams_Weekly'] = np.where(df['Williams_Weekly'] > -20, 1,                                  np.where(df['Williams_Weekly'] < -80, -1, 0))\n",
    "    df['Williams_Weekly'] = df['Williams_Weekly'].shift(1)  # Shift to avoid lookahead bias\n",
    "    df['Williams_Weekly'] = df['Williams_Weekly'].fillna(0)\n",
    "    df['Williams_Weekly'] = df['Williams_Weekly'].astype(int)\n",
    "\n",
    "\n",
    "    return df\n",
    "\n",
    "\n",
    "\n",
    "\n"
   ]
  },
  {
   "cell_type": "code",
   "execution_count": null,
   "metadata": {},
   "outputs": [],
   "source": []
  },
  {
   "cell_type": "code",
   "execution_count": null,
   "metadata": {},
   "outputs": [],
   "source": []
  },
  {
   "cell_type": "code",
   "execution_count": null,
   "metadata": {},
   "outputs": [
    {
     "ename": "NameError",
     "evalue": "name 'plt' is not defined",
     "output_type": "error",
     "traceback": [
      "\u001b[1;31m---------------------------------------------------------------------------\u001b[0m",
      "\u001b[1;31mNameError\u001b[0m                                 Traceback (most recent call last)",
      "Cell \u001b[1;32mIn[4], line 2\u001b[0m\n\u001b[0;32m      1\u001b[0m \u001b[38;5;66;03m# Visualize the distribution of option prices\u001b[39;00m\n\u001b[1;32m----> 2\u001b[0m \u001b[43mplt\u001b[49m\u001b[38;5;241m.\u001b[39mfigure(figsize\u001b[38;5;241m=\u001b[39m(\u001b[38;5;241m10\u001b[39m, \u001b[38;5;241m6\u001b[39m))\n\u001b[0;32m      3\u001b[0m sns\u001b[38;5;241m.\u001b[39mhistplot(options_data[\u001b[38;5;124m'\u001b[39m\u001b[38;5;124moption_price\u001b[39m\u001b[38;5;124m'\u001b[39m], bins\u001b[38;5;241m=\u001b[39m\u001b[38;5;241m30\u001b[39m, kde\u001b[38;5;241m=\u001b[39m\u001b[38;5;28;01mTrue\u001b[39;00m)\n\u001b[0;32m      4\u001b[0m plt\u001b[38;5;241m.\u001b[39mtitle(\u001b[38;5;124m'\u001b[39m\u001b[38;5;124mDistribution of Option Prices\u001b[39m\u001b[38;5;124m'\u001b[39m)\n",
      "\u001b[1;31mNameError\u001b[0m: name 'plt' is not defined"
     ]
    }
   ],
   "source": [
    "# Visualize the distribution of option prices\n",
    "plt.figure(figsize=(10, 6))\n",
    "sns.histplot(options_data['option_price'], bins=30, kde=True)\n",
    "plt.title('Distribution of Option Prices')\n",
    "plt.xlabel('Option Price')\n",
    "plt.ylabel('Frequency')\n",
    "plt.show()"
   ]
  },
  {
   "cell_type": "code",
   "execution_count": null,
   "metadata": {},
   "outputs": [],
   "source": [
    "# Correlation heatmap\n",
    "plt.figure(figsize=(12, 8))\n",
    "correlation_matrix = options_data.corr()\n",
    "sns.heatmap(correlation_matrix, annot=True, fmt='.2f', cmap='coolwarm')\n",
    "plt.title('Correlation Heatmap')\n",
    "plt.show()"
   ]
  },
  {
   "cell_type": "markdown",
   "metadata": {},
   "source": [
    "## Insights\n",
    "\n",
    "1. The distribution of option prices shows...\n",
    "2. The correlation heatmap indicates...\n",
    "\n",
    "Further analysis can be conducted to explore relationships between different features and their impact on option pricing."
   ]
  }
 ],
 "metadata": {
  "kernelspec": {
   "display_name": "quant",
   "language": "python",
   "name": "python3"
  },
  "language_info": {
   "codemirror_mode": {
    "name": "ipython",
    "version": 3
   },
   "file_extension": ".py",
   "mimetype": "text/x-python",
   "name": "python",
   "nbconvert_exporter": "python",
   "pygments_lexer": "ipython3",
   "version": "3.9.23"
  }
 },
 "nbformat": 4,
 "nbformat_minor": 4
}
